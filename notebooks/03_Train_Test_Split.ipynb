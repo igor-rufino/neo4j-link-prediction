{
 "cells": [
  {
   "cell_type": "markdown",
   "metadata": {},
   "source": [
    "# Train and test datasets\n",
    "\n",
    "Now that we've decided we're going to use a machine learning approach, we need to come up with train and test datasets on which we can build, and then evaluate a model.\n",
    "\n",
    "### Positive examples\n",
    "\n",
    "The tricky thing when working with graph data is that we can't just randomly split the data, as this could lead to data leakage.\n",
    "\n",
    "Data leakage can occur when data outside of your training data is inadvertently used to create your model. This can easily happen when working with graphs because pairs of nodes in our training set may be connected to those in the test set.\n",
    "\n",
    "When we compute link prediction measures over that training set the __measures computed contain information from the test set__ that we’ll later evaluate our model against.\n",
    "\n",
    "Instead we need to split our graph into training and test sub graphs. If our graph has a concept of time our life is easy — we can split the graph at a point in time and the training set will be from before the time, the test set after.\n",
    "\n",
    "This is still not a perfect solution and we’ll need to try and ensure that the general network structure in the training and test sub graphs is similar.\n",
    "\n",
    "Once we’ve done that we’ll have pairs of nodes in our train and test set that have relationships between them. They will be the __positive examples__ in our machine learning model.\n",
    "\n",
    "We are lucky that our citation graph contains a times. We can create train and test graphs by splitting the data on a particular year. Now we need to figure out what year that should be. Let's have a look at the distribution of the first year that co-authors collaborated:"
   ]
  },
  {
   "cell_type": "code",
   "execution_count": 54,
   "metadata": {},
   "outputs": [],
   "source": [
    "from neo4j import GraphDatabase\n",
    "\n",
    "import pandas as pd\n",
    "import matplotlib\n",
    "import matplotlib.pyplot as plt\n",
    "\n",
    "plt.style.use('fivethirtyeight')\n",
    "pd.set_option('display.float_format', lambda x: '%.3f' % x)"
   ]
  },
  {
   "cell_type": "code",
   "execution_count": 55,
   "metadata": {},
   "outputs": [
    {
     "name": "stdout",
     "output_type": "stream",
     "text": [
      "localhost:7687\n"
     ]
    }
   ],
   "source": [
    "bolt_uri = \"bolt://localhost:7687\"\n",
    "driver = GraphDatabase.driver(bolt_uri, auth=(\"neo4j\", \"neo4jneo4j\"))\n",
    "\n",
    "print(driver.address)"
   ]
  },
  {
   "cell_type": "markdown",
   "metadata": {},
   "source": [
    "We can create the co-author graph by running the query below to do this:"
   ]
  },
  {
   "cell_type": "code",
   "execution_count": 56,
   "metadata": {},
   "outputs": [
    {
     "data": {
      "image/png": "[encoded data removed]",
      "text/plain": [
       "<Figure size 1080x576 with 1 Axes>"
      ]
     },
     "metadata": {},
     "output_type": "display_data"
    }
   ],
   "source": [
    "query = \"\"\"\n",
    "MATCH p=()-[r:CO_AUTHOR]->()\n",
    "WITH r.year AS year, count(*) AS count\n",
    "ORDER BY year\n",
    "RETURN toString(year) AS year, count\n",
    "\"\"\"\n",
    "\n",
    "with driver.session(database=\"demo\") as session:\n",
    "    result = session.run(query)\n",
    "    by_year = pd.DataFrame([dict(record) for record in result])\n",
    "\n",
    "ax = by_year.plot(kind='bar', x='year', y='count', legend=None, figsize=(15,8))\n",
    "ax.xaxis.set_label_text(\"\")\n",
    "plt.tight_layout()\n",
    "\n",
    "plt.show()"
   ]
  },
  {
   "cell_type": "markdown",
   "metadata": {},
   "source": [
    "It looks like 2006 would act as a good year on which to split the data. We'll take all the co-authorships from 2005 and earlier as our train graph, and everything from 2006 onwards as the test graph.\n",
    "\n",
    "Let's create explicit `CO_AUTHOR_EARLY` and `CO_AUTHOR_LATE` relationships in our graph based on that year. The following code will create these relationships for us:"
   ]
  },
  {
   "cell_type": "code",
   "execution_count": 57,
   "metadata": {},
   "outputs": [
    {
     "data": {
      "text/plain": [
       "{'_contains_updates': True, 'relationships_created': 6801, 'properties_set': 6801}"
      ]
     },
     "metadata": {},
     "output_type": "display_data"
    },
    {
     "data": {
      "text/plain": [
       "{'_contains_updates': True, 'relationships_created': 8144, 'properties_set': 8144}"
      ]
     },
     "metadata": {},
     "output_type": "display_data"
    }
   ],
   "source": [
    "query = \"\"\"\n",
    "MATCH (a)-[r:CO_AUTHOR]->(b)\n",
    "where r.year < 2006\n",
    "MERGE (a)-[:CO_AUTHOR_EARLY {year: r.year}]-(b);\n",
    "\"\"\"\n",
    "\n",
    "with driver.session(database=\"demo\") as session:\n",
    "    display(session.run(query).consume().counters)\n",
    "\n",
    "query = \"\"\"\n",
    "MATCH (a)-[r:CO_AUTHOR]->(b)\n",
    "where r.year >= 2006\n",
    "MERGE (a)-[:CO_AUTHOR_LATE {year: r.year}]-(b);\n",
    "\"\"\"\n",
    "\n",
    "with driver.session(database=\"demo\") as session:\n",
    "    display(session.run(query).consume().counters)"
   ]
  },
  {
   "cell_type": "markdown",
   "metadata": {},
   "source": [
    "Let's quickly check how many co-author relationship we have in each of these sub graphs:"
   ]
  },
  {
   "cell_type": "code",
   "execution_count": 58,
   "metadata": {},
   "outputs": [
    {
     "data": {
      "text/html": [
       "<div>\n",
       "<style scoped>\n",
       "    .dataframe tbody tr th:only-of-type {\n",
       "        vertical-align: middle;\n",
       "    }\n",
       "\n",
       "    .dataframe tbody tr th {\n",
       "        vertical-align: top;\n",
       "    }\n",
       "\n",
       "    .dataframe thead th {\n",
       "        text-align: right;\n",
       "    }\n",
       "</style>\n",
       "<table border=\"1\" class=\"dataframe\">\n",
       "  <thead>\n",
       "    <tr style=\"text-align: right;\">\n",
       "      <th></th>\n",
       "      <th>count</th>\n",
       "    </tr>\n",
       "  </thead>\n",
       "  <tbody>\n",
       "    <tr>\n",
       "      <th>0</th>\n",
       "      <td>6801</td>\n",
       "    </tr>\n",
       "  </tbody>\n",
       "</table>\n",
       "</div>"
      ],
      "text/plain": [
       "   count\n",
       "0   6801"
      ]
     },
     "execution_count": 58,
     "metadata": {},
     "output_type": "execute_result"
    }
   ],
   "source": [
    "query = \"\"\"\n",
    "MATCH ()-[:CO_AUTHOR_EARLY]->()\n",
    "RETURN count(*) AS count\n",
    "\"\"\"\n",
    "\n",
    "with driver.session(database=\"demo\") as session:\n",
    "    result = session.run(query)\n",
    "    df = pd.DataFrame([dict(record) for record in result])\n",
    "df"
   ]
  },
  {
   "cell_type": "code",
   "execution_count": 59,
   "metadata": {},
   "outputs": [
    {
     "data": {
      "text/html": [
       "<div>\n",
       "<style scoped>\n",
       "    .dataframe tbody tr th:only-of-type {\n",
       "        vertical-align: middle;\n",
       "    }\n",
       "\n",
       "    .dataframe tbody tr th {\n",
       "        vertical-align: top;\n",
       "    }\n",
       "\n",
       "    .dataframe thead th {\n",
       "        text-align: right;\n",
       "    }\n",
       "</style>\n",
       "<table border=\"1\" class=\"dataframe\">\n",
       "  <thead>\n",
       "    <tr style=\"text-align: right;\">\n",
       "      <th></th>\n",
       "      <th>count</th>\n",
       "    </tr>\n",
       "  </thead>\n",
       "  <tbody>\n",
       "    <tr>\n",
       "      <th>0</th>\n",
       "      <td>8144</td>\n",
       "    </tr>\n",
       "  </tbody>\n",
       "</table>\n",
       "</div>"
      ],
      "text/plain": [
       "   count\n",
       "0   8144"
      ]
     },
     "execution_count": 59,
     "metadata": {},
     "output_type": "execute_result"
    }
   ],
   "source": [
    "query = \"\"\"\n",
    "MATCH ()-[:CO_AUTHOR_LATE]->()\n",
    "RETURN count(*) AS count\n",
    "\"\"\"\n",
    "\n",
    "with driver.session(database=\"demo\") as session:\n",
    "    result = session.run(query)\n",
    "    df = pd.DataFrame([dict(record) for record in result])\n",
    "df"
   ]
  },
  {
   "cell_type": "markdown",
   "metadata": {},
   "source": [
    "### Negative examples\n",
    "\n",
    "The simplest approach would be to use all pair of nodes that don’t have a relationship. __The problem with this approach is that there are significantly more examples of pairs of nodes that don’t have a relationship than there are pairs of nodes that do__.\n",
    "\n",
    "The maximum number of negative examples is equal to:\n",
    "\n",
    "```\n",
    "# negative examples = (# nodes)² - (# relationships) - (# nodes)\n",
    "```\n",
    "\n",
    "i.e. the number of nodes squared, minus the relationships that the graph has, minus self relationships.\n",
    "\n",
    "If we use all of these negative examples in our training set we will have a massive class imbalance — there are many negative examples and relatively few positive ones.\n",
    "\n",
    "A model trained using data that’s this imbalanced will achieve very high accuracy by __predicting that any pair of nodes don’t have a relationship__ between them, which is not quite what we want!\n",
    "\n",
    "So we need to try and reduce the number of negative examples. An approach described in several link prediction papers is to use pairs of nodes that are a __specific number of hops away from each other__.\n",
    "\n",
    "This will significantly reduce the number of negative examples, although there will still be a lot more negative examples than positive.\n",
    "\n",
    "To solve this problem we either need to down sample the negative examples or up sample the positive examples.\n",
    "\n",
    "We're going to take the down sampling approach in this guide, and the following function will do this for us:"
   ]
  },
  {
   "cell_type": "code",
   "execution_count": 60,
   "metadata": {},
   "outputs": [],
   "source": [
    "with driver.session(database=\"demo\") as session:\n",
    "    result = session.run(\"\"\"\n",
    "             MATCH (author:Author)-[:CO_AUTHOR_EARLY]->(other:Author)\n",
    "             RETURN id(author) AS node1, id(other) AS node2, 1 AS label\"\"\")\n",
    "    train_existing_links = pd.DataFrame([dict(record) for record in result])\n",
    "\n",
    "    result = session.run(\"\"\"\n",
    "             MATCH (author:Author)\n",
    "             WHERE (author)-[:CO_AUTHOR_EARLY]-()\n",
    "             MATCH (author)-[:CO_AUTHOR_EARLY*2..3]-(other)\n",
    "             WHERE not((author)-[:CO_AUTHOR_EARLY]-(other))\n",
    "             RETURN id(author) AS node1, id(other) AS node2, 0 AS label\"\"\")\n",
    "    train_missing_links = pd.DataFrame([dict(record) for record in result])    \n",
    "    train_missing_links = train_missing_links.drop_duplicates()"
   ]
  },
  {
   "cell_type": "code",
   "execution_count": 61,
   "metadata": {},
   "outputs": [
    {
     "name": "stdout",
     "output_type": "stream",
     "text": [
      "Negative examples: 13908\n",
      "Positive examples: 6801\n",
      "Random downsampling:\n",
      "0    6801\n",
      "1    6801\n",
      "Name: label, dtype: int64\n"
     ]
    }
   ],
   "source": [
    "training_df = train_missing_links.append(train_existing_links, ignore_index=True)\n",
    "training_df['label'] = training_df['label'].astype('category')\n",
    "\n",
    "count_class_0, count_class_1 = training_df.label.value_counts()\n",
    "print(f\"Negative examples: {count_class_0}\")\n",
    "print(f\"Positive examples: {count_class_1}\")\n",
    "\n",
    "df_class_0 = training_df[training_df['label'] == 0]\n",
    "df_class_1 = training_df[training_df['label'] == 1]\n",
    "\n",
    "df_class_0_under = df_class_0.sample(count_class_1)\n",
    "df_train_under = pd.concat([df_class_0_under, df_class_1], axis=0)\n",
    "\n",
    "print('Random downsampling:')\n",
    "print(df_train_under.label.value_counts())"
   ]
  },
  {
   "cell_type": "markdown",
   "metadata": {},
   "source": [
    "Let's now do the same thing for our test set:"
   ]
  },
  {
   "cell_type": "code",
   "execution_count": 62,
   "metadata": {},
   "outputs": [],
   "source": [
    "with driver.session(database=\"demo\") as session:\n",
    "    result = session.run(\"\"\"\n",
    "             MATCH (author:Author)-[:CO_AUTHOR_LATE]->(other:Author)\n",
    "             RETURN id(author) AS node1, id(other) AS node2, 1 AS label\"\"\")\n",
    "    test_existing_links = pd.DataFrame([dict(record) for record in result])\n",
    "\n",
    "    result = session.run(\"\"\"\n",
    "             MATCH (author:Author)\n",
    "             WHERE (author)-[:CO_AUTHOR_LATE]-()\n",
    "             MATCH (author)-[:CO_AUTHOR_LATE*2..3]-(other)\n",
    "             WHERE not((author)-[:CO_AUTHOR_LATE]-(other))\n",
    "             RETURN id(author) AS node1, id(other) AS node2, 0 AS label\"\"\")\n",
    "    test_missing_links = pd.DataFrame([dict(record) for record in result])    \n",
    "    test_missing_links = test_missing_links.drop_duplicates()"
   ]
  },
  {
   "cell_type": "code",
   "execution_count": 63,
   "metadata": {},
   "outputs": [
    {
     "name": "stdout",
     "output_type": "stream",
     "text": [
      "Negative examples: 16835\n",
      "Positive examples: 8144\n",
      "Random downsampling:\n",
      "0    8144\n",
      "1    8144\n",
      "Name: label, dtype: int64\n"
     ]
    }
   ],
   "source": [
    "# Compute positive and negative examples\n",
    "\n",
    "test_df = test_missing_links.append(test_existing_links, ignore_index=True)\n",
    "test_df['label'] = test_df['label'].astype('category')\n",
    "\n",
    "count_class_0, count_class_1 = test_df.label.value_counts()\n",
    "print(f\"Negative examples: {count_class_0}\")\n",
    "print(f\"Positive examples: {count_class_1}\")\n",
    "\n",
    "\n",
    "# Down sample the negative examples\n",
    "\n",
    "df_class_0 = test_df[test_df['label'] == 0]\n",
    "df_class_1 = test_df[test_df['label'] == 1]\n",
    "\n",
    "df_class_0_under = df_class_0.sample(count_class_1)\n",
    "df_test_under = pd.concat([df_class_0_under, df_class_1], axis=0)\n",
    "\n",
    "print('Random downsampling:')\n",
    "print(df_test_under.label.value_counts())"
   ]
  },
  {
   "cell_type": "markdown",
   "metadata": {},
   "source": [
    "Before we move on, let's have a look at the contents of our train and test DataFrames:"
   ]
  },
  {
   "cell_type": "code",
   "execution_count": 64,
   "metadata": {},
   "outputs": [
    {
     "data": {
      "text/html": [
       "<div>\n",
       "<style scoped>\n",
       "    .dataframe tbody tr th:only-of-type {\n",
       "        vertical-align: middle;\n",
       "    }\n",
       "\n",
       "    .dataframe tbody tr th {\n",
       "        vertical-align: top;\n",
       "    }\n",
       "\n",
       "    .dataframe thead th {\n",
       "        text-align: right;\n",
       "    }\n",
       "</style>\n",
       "<table border=\"1\" class=\"dataframe\">\n",
       "  <thead>\n",
       "    <tr style=\"text-align: right;\">\n",
       "      <th></th>\n",
       "      <th>node1</th>\n",
       "      <th>node2</th>\n",
       "      <th>label</th>\n",
       "    </tr>\n",
       "  </thead>\n",
       "  <tbody>\n",
       "    <tr>\n",
       "      <th>15822</th>\n",
       "      <td>3405</td>\n",
       "      <td>9308</td>\n",
       "      <td>1</td>\n",
       "    </tr>\n",
       "    <tr>\n",
       "      <th>19871</th>\n",
       "      <td>13035</td>\n",
       "      <td>13036</td>\n",
       "      <td>1</td>\n",
       "    </tr>\n",
       "    <tr>\n",
       "      <th>3461</th>\n",
       "      <td>4851</td>\n",
       "      <td>4851</td>\n",
       "      <td>0</td>\n",
       "    </tr>\n",
       "    <tr>\n",
       "      <th>6898</th>\n",
       "      <td>7040</td>\n",
       "      <td>7040</td>\n",
       "      <td>0</td>\n",
       "    </tr>\n",
       "    <tr>\n",
       "      <th>2401</th>\n",
       "      <td>2792</td>\n",
       "      <td>4923</td>\n",
       "      <td>0</td>\n",
       "    </tr>\n",
       "  </tbody>\n",
       "</table>\n",
       "</div>"
      ],
      "text/plain": [
       "       node1  node2 label\n",
       "15822   3405   9308     1\n",
       "19871  13035  13036     1\n",
       "3461    4851   4851     0\n",
       "6898    7040   7040     0\n",
       "2401    2792   4923     0"
      ]
     },
     "execution_count": 64,
     "metadata": {},
     "output_type": "execute_result"
    }
   ],
   "source": [
    "df_train_under.sample(5, random_state=42)"
   ]
  },
  {
   "cell_type": "code",
   "execution_count": 65,
   "metadata": {},
   "outputs": [
    {
     "data": {
      "text/html": [
       "<div>\n",
       "<style scoped>\n",
       "    .dataframe tbody tr th:only-of-type {\n",
       "        vertical-align: middle;\n",
       "    }\n",
       "\n",
       "    .dataframe tbody tr th {\n",
       "        vertical-align: top;\n",
       "    }\n",
       "\n",
       "    .dataframe thead th {\n",
       "        text-align: right;\n",
       "    }\n",
       "</style>\n",
       "<table border=\"1\" class=\"dataframe\">\n",
       "  <thead>\n",
       "    <tr style=\"text-align: right;\">\n",
       "      <th></th>\n",
       "      <th>node1</th>\n",
       "      <th>node2</th>\n",
       "      <th>label</th>\n",
       "    </tr>\n",
       "  </thead>\n",
       "  <tbody>\n",
       "    <tr>\n",
       "      <th>5734</th>\n",
       "      <td>5325</td>\n",
       "      <td>9589</td>\n",
       "      <td>0</td>\n",
       "    </tr>\n",
       "    <tr>\n",
       "      <th>12056</th>\n",
       "      <td>10195</td>\n",
       "      <td>10195</td>\n",
       "      <td>0</td>\n",
       "    </tr>\n",
       "    <tr>\n",
       "      <th>22268</th>\n",
       "      <td>9548</td>\n",
       "      <td>9567</td>\n",
       "      <td>1</td>\n",
       "    </tr>\n",
       "    <tr>\n",
       "      <th>3075</th>\n",
       "      <td>2696</td>\n",
       "      <td>2757</td>\n",
       "      <td>0</td>\n",
       "    </tr>\n",
       "    <tr>\n",
       "      <th>105</th>\n",
       "      <td>1040</td>\n",
       "      <td>3049</td>\n",
       "      <td>0</td>\n",
       "    </tr>\n",
       "  </tbody>\n",
       "</table>\n",
       "</div>"
      ],
      "text/plain": [
       "       node1  node2 label\n",
       "5734    5325   9589     0\n",
       "12056  10195  10195     0\n",
       "22268   9548   9567     1\n",
       "3075    2696   2757     0\n",
       "105     1040   3049     0"
      ]
     },
     "execution_count": 65,
     "metadata": {},
     "output_type": "execute_result"
    }
   ],
   "source": [
    "df_test_under.sample(5, random_state=42)"
   ]
  },
  {
   "cell_type": "code",
   "execution_count": 66,
   "metadata": {},
   "outputs": [],
   "source": [
    "# Save our DataFrames to CSV files for use in the next notebook\n",
    "\n",
    "df_train_under.to_csv(\"data/df_train_under.csv\", index=False)\n",
    "df_test_under.to_csv(\"data/df_test_under.csv\", index=False)\n",
    "\n",
    "# df_train_under = pd.read_csv(\"data/df_train_under.csv\")\n",
    "# df_test_under = pd.read_csv(\"data/df_test_under.csv\")\n",
    "\n",
    "df_train_under.sample(5, random_state=42).to_csv(\"data/df_train_under_basic_sample.csv\", index=False)\n",
    "df_test_under.sample(5, random_state=42).to_csv(\"data/df_test_under_basic_sample.csv\", index=False)"
   ]
  }
 ],
 "metadata": {
  "jupytext": {
   "encoding": "# -*- coding: utf-8 -*-",
   "formats": "py:light,ipynb"
  },
  "kernelspec": {
   "display_name": "Python 3.9.5 64-bit",
   "language": "python",
   "name": "python3"
  },
  "language_info": {
   "codemirror_mode": {
    "name": "ipython",
    "version": 3
   },
   "file_extension": ".py",
   "mimetype": "text/x-python",
   "name": "python",
   "nbconvert_exporter": "python",
   "pygments_lexer": "ipython3",
   "version": "3.9.5"
  },
  "vscode": {
   "interpreter": {
    "hash": "e43069a74fce5f66ae94a90e103b27ac3251e523ee6c4b61b97d569a2d47d05d"
   }
  }
 },
 "nbformat": 4,
 "nbformat_minor": 4
}
