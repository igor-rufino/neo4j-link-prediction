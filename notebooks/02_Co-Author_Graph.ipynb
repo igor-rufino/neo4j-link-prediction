{
 "cells": [
  {
   "cell_type": "markdown",
   "metadata": {},
   "source": [
    "# Building a co-author graph\n",
    "\n",
    "In this notebook we're going to build an inferred graph of co-authors based on people collaborating on the same papers. We're also going to store a property on the relationship indicating the year of their first collaboration."
   ]
  },
  {
   "cell_type": "code",
   "execution_count": 11,
   "metadata": {},
   "outputs": [],
   "source": [
    "from neo4j import GraphDatabase"
   ]
  },
  {
   "cell_type": "code",
   "execution_count": 12,
   "metadata": {},
   "outputs": [
    {
     "name": "stdout",
     "output_type": "stream",
     "text": [
      "localhost:7687\n"
     ]
    }
   ],
   "source": [
    "bolt_uri = \"bolt://localhost:7687\"\n",
    "driver = GraphDatabase.driver(bolt_uri, auth=(\"neo4j\", \"neo4jneo4j\"))\n",
    "\n",
    "print(driver.address)"
   ]
  },
  {
   "cell_type": "markdown",
   "metadata": {},
   "source": [
    "We can create the co-author graph by running the query below to do this:"
   ]
  },
  {
   "cell_type": "code",
   "execution_count": 13,
   "metadata": {},
   "outputs": [
    {
     "name": "stdout",
     "output_type": "stream",
     "text": [
      "<Record batches=299 total=29890 timeTaken=58 committedOperations=29890 failedOperations=0 failedBatches=0 retries=0 errorMessages={} batch={'total': 299, 'committed': 299, 'failed': 0, 'errors': {}} operations={'total': 29890, 'committed': 29890, 'failed': 0, 'errors': {}} wasTerminated=False failedParams={} updateStatistics={'nodesDeleted': 0, 'labelsAdded': 0, 'relationshipsCreated': 14945, 'nodesCreated': 0, 'propertiesSet': 44874, 'relationshipsDeleted': 0, 'labelsRemoved': 0}>\n"
     ]
    }
   ],
   "source": [
    "query = \"\"\"\n",
    "CALL apoc.periodic.iterate(\n",
    "  \"MATCH (a1)<-[:AUTHOR]-(paper)-[:AUTHOR]->(a2:Author)\n",
    "   WITH a1, a2, paper\n",
    "   ORDER BY a1, paper.year\n",
    "   RETURN a1, a2, collect(paper)[0].year AS year, count(*) AS collaborations\",\n",
    "  \"MERGE (a1)-[coauthor:CO_AUTHOR {year: year}]-(a2)\n",
    "   SET coauthor.collaborations = collaborations\",\n",
    "  {batchSize: 100})\n",
    "\"\"\"\n",
    "\n",
    "with driver.session(database=\"demo\") as session:\n",
    "    result = session.run(query)\n",
    "    for row in result:\n",
    "        print(row)"
   ]
  },
  {
   "cell_type": "markdown",
   "metadata": {},
   "source": [
    "Now that we've created our co-author graph, we want to come up with an approach that will allow us to predict future links (relationships) that will be created between people."
   ]
  }
 ],
 "metadata": {
  "jupytext": {
   "formats": "py:light,ipynb",
   "text_representation": {
    "extension": ".py",
    "format_name": "light",
    "format_version": "1.5",
    "jupytext_version": "1.5.2"
   }
  },
  "kernelspec": {
   "display_name": "Python 3.9.5 64-bit",
   "language": "python",
   "name": "python3"
  },
  "language_info": {
   "codemirror_mode": {
    "name": "ipython",
    "version": 3
   },
   "file_extension": ".py",
   "mimetype": "text/x-python",
   "name": "python",
   "nbconvert_exporter": "python",
   "pygments_lexer": "ipython3",
   "version": "3.9.5"
  },
  "vscode": {
   "interpreter": {
    "hash": "e43069a74fce5f66ae94a90e103b27ac3251e523ee6c4b61b97d569a2d47d05d"
   }
  }
 },
 "nbformat": 4,
 "nbformat_minor": 4
}
